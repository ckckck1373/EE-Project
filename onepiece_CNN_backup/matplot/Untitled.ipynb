{
 "cells": [
  {
   "cell_type": "code",
   "execution_count": 44,
   "metadata": {},
   "outputs": [],
   "source": [
    "import numpy as np\n",
    "import matplotlib.pyplot as plt\n",
    "from collections import defaultdict"
   ]
  },
  {
   "cell_type": "code",
   "execution_count": 45,
   "metadata": {
    "scrolled": true
   },
   "outputs": [],
   "source": [
    "data_weight_rounding = np.genfromtxt('res1_conv1_weight_truncated.dat', dtype = 'float32')\n",
    "data_weight_rounding = data_weight_rounding.ravel() # turn data to 1D array\n",
    "data_weight_rounding = data_weight_rounding/128\n",
    "\n",
    "# data_weight_conv1_rounding.shape\n",
    "# plt.hist(data_weight_conv1_rounding, width=0.01)\n",
    "# plt.show()"
   ]
  },
  {
   "cell_type": "code",
   "execution_count": 46,
   "metadata": {},
   "outputs": [],
   "source": [
    "data_bias_rounding = np.genfromtxt('res1_conv1_bias_truncated.dat', dtype = 'float32')\n",
    "data_bias_rounding = data_bias_rounding.ravel() # turn data to 1D array\n",
    "data_bias_rounding = data_bias_rounding/128\n",
    "\n"
   ]
  },
  {
   "cell_type": "code",
   "execution_count": 47,
   "metadata": {},
   "outputs": [],
   "source": [
    "data_weight_float = np.genfromtxt('res1_conv1_weight_float.dat',dtype= 'float32')\n",
    "\n",
    "# data_weight_conv1.shape\n",
    "\n",
    "data_weight_float = data_weight_float.ravel()\n",
    "\n",
    "# plt.hist(data_weight_conv1, width=0.01)\n",
    "# plt.show()"
   ]
  },
  {
   "cell_type": "code",
   "execution_count": 48,
   "metadata": {},
   "outputs": [],
   "source": [
    "data_bias_float = np.genfromtxt('res1_conv1_bias_float.dat',dtype= 'float32')\n",
    "data_bias_float = data_bias_float.ravel()\n",
    "\n"
   ]
  },
  {
   "cell_type": "code",
   "execution_count": 49,
   "metadata": {},
   "outputs": [],
   "source": [
    "def zero():\n",
    "    return 0"
   ]
  },
  {
   "cell_type": "code",
   "execution_count": 50,
   "metadata": {},
   "outputs": [
    {
     "name": "stdout",
     "output_type": "stream",
     "text": [
      "[  0.   0.   0. ... 100. 100.   0.]\n",
      "defaultdict(<function zero at 0x00000137D99E62F0>, {0.0: 3741, 100.0: 579, 20.0: 668, 40.0: 196})\n"
     ]
    },
    {
     "data": {
      "image/png": "[encoded data removed]",
      "text/plain": [
       "<Figure size 432x288 with 1 Axes>"
      ]
     },
     "metadata": {
      "needs_background": "light"
     },
     "output_type": "display_data"
    }
   ],
   "source": [
    "data_weight_diff = abs((data_weight_rounding - data_weight_float)/data_weight_float)*100\n",
    "data_weight_x_axis = (data_weight_diff//20)*20\n",
    "print(data_weight_x_axis)\n",
    "\n",
    "data_weight_diff_accu_dict = defaultdict(zero)\n",
    "\n",
    "n_bins = 10\n",
    "\n",
    "for element in data_weight_x_axis:\n",
    "    data_weight_diff_accu_dict[element] += 1\n",
    "    \n",
    "print(data_weight_diff_accu_dict)\n",
    "# hist\n",
    "plt.hist(data_weight_x_axis, n_bins)\n",
    "plt.show()\n",
    "\n",
    "\n",
    "\n"
   ]
  },
  {
   "cell_type": "code",
   "execution_count": 51,
   "metadata": {},
   "outputs": [
    {
     "name": "stdout",
     "output_type": "stream",
     "text": [
      "[ 20.   0.   0. 100.  20.  20.   0.   0.   0.   0.   0.   0.   0.   0.\n",
      "   0.   0.   0.  20. 100.   0.  40.   0.  20.   0.]\n",
      "defaultdict(<function zero at 0x00000137D99E62F0>, {20.0: 5, 0.0: 16, 100.0: 2, 40.0: 1})\n"
     ]
    },
    {
     "data": {
      "image/png": "[encoded data removed]",
      "text/plain": [
       "<Figure size 432x288 with 1 Axes>"
      ]
     },
     "metadata": {
      "needs_background": "light"
     },
     "output_type": "display_data"
    }
   ],
   "source": [
    "data_bais_diff = abs((data_bias_rounding - data_bias_float)/data_bias_float)*100\n",
    "data_bias_x_axis = (data_bais_diff//20)*20\n",
    "print(data_bias_x_axis)\n",
    "\n",
    "data_bias_diff_accu_dict = defaultdict(zero)\n",
    "\n",
    "\n",
    "for element in data_bias_x_axis:\n",
    "    data_bias_diff_accu_dict[element] += 1\n",
    "    \n",
    "print(data_bias_diff_accu_dict)\n",
    "# hist\n",
    "plt.hist(data_bias_x_axis, n_bins)\n",
    "plt.show()\n",
    "\n",
    "\n",
    "\n"
   ]
  }
 ],
 "metadata": {
  "kernelspec": {
   "display_name": "Python 3",
   "language": "python",
   "name": "python3"
  },
  "language_info": {
   "codemirror_mode": {
    "name": "ipython",
    "version": 3
   },
   "file_extension": ".py",
   "mimetype": "text/x-python",
   "name": "python",
   "nbconvert_exporter": "python",
   "pygments_lexer": "ipython3",
   "version": "3.6.5"
  }
 },
 "nbformat": 4,
 "nbformat_minor": 2
}
